{
 "cells": [
  {
   "cell_type": "code",
   "execution_count": 23,
   "metadata": {},
   "outputs": [
    {
     "data": {
      "text/plain": [
       "'\\n    Broadcasting in Python using Numpy [and its importance in Deep Learning]\\n    Author: Sadip Giri (sadipgiri@bennington.edu)\\n    Date: 10th June, 2018\\n'"
      ]
     },
     "execution_count": 23,
     "metadata": {},
     "output_type": "execute_result"
    }
   ],
   "source": [
    "\"\"\"\n",
    "    Broadcasting in Python using Numpy [and its importance in Deep Learning]\n",
    "    Author: Sadip Giri (sadipgiri@bennington.edu)\n",
    "    Date: 10th June, 2018\n",
    "\"\"\""
   ]
  },
  {
   "cell_type": "code",
   "execution_count": 24,
   "metadata": {},
   "outputs": [
    {
     "name": "stdout",
     "output_type": "stream",
     "text": [
      "[1 2 3 4]\n"
     ]
    }
   ],
   "source": [
    "import numpy as np\n",
    "v = np.array([1,2,3,4])\n",
    "print(v)"
   ]
  },
  {
   "cell_type": "code",
   "execution_count": 25,
   "metadata": {},
   "outputs": [
    {
     "name": "stdout",
     "output_type": "stream",
     "text": [
      "[101 102 103 104]\n"
     ]
    }
   ],
   "source": [
    "# now adding it to certain number\n",
    "updated_v = v + 100\n",
    "print(updated_v)"
   ]
  },
  {
   "cell_type": "code",
   "execution_count": 26,
   "metadata": {},
   "outputs": [],
   "source": [
    "# Theoretically, it doesn't make sense since we are adding 1*4 dim. vector to constant\n",
    "# However, Python does it for us using Broadcasting techniques\n",
    "# Generally:\n",
    "# (m,n) + or - or * or / (1,m) or (n, 1)--->(we get) (m, n) "
   ]
  },
  {
   "cell_type": "code",
   "execution_count": 27,
   "metadata": {},
   "outputs": [
    {
     "name": "stdout",
     "output_type": "stream",
     "text": [
      "[[1 2 3]\n",
      " [4 5 6]]\n",
      "---------- + 100\n",
      "[[101 102 103]\n",
      " [104 105 106]]\n",
      "---------- + [1000, 1000, 1000]\n",
      "[[1001 1002 1003]\n",
      " [1004 1005 1006]]\n"
     ]
    }
   ],
   "source": [
    "# Other examples:\n",
    "mat = np.array([[1,2,3], [4,5,6]])\n",
    "print(mat)\n",
    "print(\"---------- + 100\")\n",
    "updated_mat = mat + 100\n",
    "print(updated_mat)\n",
    "print(\"---------- + [1000, 1000, 1000]\")\n",
    "print(mat + np.array([1000, 1000, 1000]))"
   ]
  },
  {
   "cell_type": "code",
   "execution_count": 28,
   "metadata": {},
   "outputs": [
    {
     "name": "stdout",
     "output_type": "stream",
     "text": [
      "[[ 56.    0.    4.4  68. ]\n",
      " [  1.2 104.   52.    8. ]\n",
      " [  1.8 135.   99.    0.9]]\n"
     ]
    }
   ],
   "source": [
    "matrx = np.array([[56.0, 0.0, 4.4, 68.0], [1.2, 104.0, 52.0, 8.0], [1.8, 135.0, 99.0, 0.9]])\n",
    "print(matrx)"
   ]
  },
  {
   "cell_type": "code",
   "execution_count": 29,
   "metadata": {},
   "outputs": [
    {
     "name": "stdout",
     "output_type": "stream",
     "text": [
      "[ 59.  239.  155.4  76.9]\n",
      "Now calculating percentage of each components\n",
      "[[94.91525424  0.          2.83140283 88.42652796]\n",
      " [ 2.03389831 43.51464435 33.46203346 10.40312094]\n",
      " [ 3.05084746 56.48535565 63.70656371  1.17035111]]\n"
     ]
    }
   ],
   "source": [
    "columnwise_sum = matrx.sum(axis=0) # 0 for vertical sum and 1 for horizontal sum\n",
    "print(columnwise_sum)\n",
    "print(\"Now calculating percentage of each components\")\n",
    "\n",
    "# now to take the average and compute percentage\n",
    "percent_matrx = 100*matrx/columnwise_sum # here we are using Broadcasting techniques of Python [numpy]\n",
    "print(percent_matrx)\n"
   ]
  },
  {
   "cell_type": "code",
   "execution_count": 30,
   "metadata": {},
   "outputs": [],
   "source": [
    "# Note: Broadcasting is very useful techniques in Deep Learning Era with respect to Vectorization"
   ]
  },
  {
   "cell_type": "code",
   "execution_count": null,
   "metadata": {},
   "outputs": [],
   "source": []
  }
 ],
 "metadata": {
  "kernelspec": {
   "display_name": "Python 3",
   "language": "python",
   "name": "python3"
  },
  "language_info": {
   "codemirror_mode": {
    "name": "ipython",
    "version": 3
   },
   "file_extension": ".py",
   "mimetype": "text/x-python",
   "name": "python",
   "nbconvert_exporter": "python",
   "pygments_lexer": "ipython3",
   "version": "3.6.2"
  }
 },
 "nbformat": 4,
 "nbformat_minor": 2
}
