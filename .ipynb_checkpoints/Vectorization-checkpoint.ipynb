{
 "cells": [
  {
   "cell_type": "code",
   "execution_count": 19,
   "metadata": {},
   "outputs": [
    {
     "data": {
      "text/plain": [
       "'\\n    vectorization importance in Deep Learning Era (alleviate time/computation complexity)\\n    Author: Sadip Giri (sadipgiri@bennington.edu)\\n    Date: 10th June, 2018\\n'"
      ]
     },
     "execution_count": 19,
     "metadata": {},
     "output_type": "execute_result"
    }
   ],
   "source": [
    "\"\"\"\n",
    "    vectorization importance in Deep Learning Era (alleviate time/computation complexity)\n",
    "    Author: Sadip Giri (sadipgiri@bennington.edu)\n",
    "    Date: 10th June, 2018\n",
    "\"\"\""
   ]
  },
  {
   "cell_type": "code",
   "execution_count": 31,
   "metadata": {},
   "outputs": [
    {
     "name": "stdout",
     "output_type": "stream",
     "text": [
      "[1 2 3 4]\n"
     ]
    },
    {
     "ename": "AssertionError",
     "evalue": "",
     "output_type": "error",
     "traceback": [
      "\u001b[0;31m---------------------------------------------------------------------------\u001b[0m",
      "\u001b[0;31mAssertionError\u001b[0m                            Traceback (most recent call last)",
      "\u001b[0;32m<ipython-input-31-78db00933458>\u001b[0m in \u001b[0;36m<module>\u001b[0;34m()\u001b[0m\n\u001b[1;32m      7\u001b[0m \u001b[0;31m# because we need to explicitly use matrix or vector product, addition and it might not work as we want\u001b[0m\u001b[0;34m\u001b[0m\u001b[0;34m\u001b[0m\u001b[0m\n\u001b[1;32m      8\u001b[0m \u001b[0;31m# we need to check it OR we could use assert function\u001b[0m\u001b[0;34m\u001b[0m\u001b[0;34m\u001b[0m\u001b[0m\n\u001b[0;32m----> 9\u001b[0;31m \u001b[0;32massert\u001b[0m\u001b[0;34m(\u001b[0m\u001b[0ma\u001b[0m\u001b[0;34m.\u001b[0m\u001b[0mshape\u001b[0m \u001b[0;34m==\u001b[0m \u001b[0;34m(\u001b[0m\u001b[0;36m1\u001b[0m\u001b[0;34m,\u001b[0m\u001b[0;36m4\u001b[0m\u001b[0;34m)\u001b[0m\u001b[0;34m)\u001b[0m\u001b[0;34m\u001b[0m\u001b[0m\n\u001b[0m\u001b[1;32m     10\u001b[0m \u001b[0;31m# so need to:\u001b[0m\u001b[0;34m\u001b[0m\u001b[0;34m\u001b[0m\u001b[0m\n\u001b[1;32m     11\u001b[0m \u001b[0ma\u001b[0m \u001b[0;34m=\u001b[0m \u001b[0ma\u001b[0m\u001b[0;34m.\u001b[0m\u001b[0mreshape\u001b[0m\u001b[0;34m(\u001b[0m\u001b[0;36m1\u001b[0m\u001b[0;34m,\u001b[0m\u001b[0;36m4\u001b[0m\u001b[0;34m)\u001b[0m\u001b[0;34m\u001b[0m\u001b[0m\n",
      "\u001b[0;31mAssertionError\u001b[0m: "
     ]
    }
   ],
   "source": [
    "import numpy as np # using numpy array of Python\n",
    "a = np.array([1,2,3,4]) # this is how you create numpy array\n",
    "print(a)\n",
    "\n",
    "# NOTE:\n",
    "# a is 1 rank array not vector or matrix so we need to explicitly define it using .reshape(1,4) or (4, 1)\n",
    "# because we need to explicitly use matrix or vector product, addition and it might not work as we want\n",
    "# we need to check it OR we could use assert function \n",
    "# assert(a.shape == (1,4))\n",
    "# so need to:\n",
    "a = a.reshape(1,4)\n",
    "assert(a.shape == (1,4))"
   ]
  },
  {
   "cell_type": "code",
   "execution_count": 21,
   "metadata": {},
   "outputs": [
    {
     "name": "stdout",
     "output_type": "stream",
     "text": [
      "Vectorized Form Time (in ms): 1.277923583984375\n"
     ]
    }
   ],
   "source": [
    "# vectorized form:\n",
    "\n",
    "import time # to calculate the time vectorization or non-vectorization takes\n",
    "x1 = np.random.rand(1000000) # creating million dimentional array\n",
    "x2 = np.random.rand(1000000)\n",
    "\n",
    "tic = time.time() # previous time\n",
    "x3 = np.dot(x1, x2) # this is how you do dot product in numpy\n",
    "toc = time.time() # new time\n",
    "\n",
    "print(\"Vectorized Form Time (in ms): {0}\".format((toc - tic) * 1000)) # total time in milliseconds\n"
   ]
  },
  {
   "cell_type": "code",
   "execution_count": 22,
   "metadata": {},
   "outputs": [
    {
     "name": "stdout",
     "output_type": "stream",
     "text": [
      "Non-vectorized form took (in ms): 484.943151473999\n"
     ]
    }
   ],
   "source": [
    "# Non-vectorized form: [using For Loop]\n",
    "c = 0\n",
    "tic = time.time()\n",
    "for i in range(1000000):\n",
    "    c += x1[i] * x2[i]\n",
    "toc = time.time()\n",
    "print(\"Non-vectorized form took (in ms): {0}\".format((toc - tic) * 1000))\n",
    "\n",
    "    "
   ]
  },
  {
   "cell_type": "code",
   "execution_count": 23,
   "metadata": {},
   "outputs": [],
   "source": [
    "# Therefore, its important to use vectorization technique whenever possible in Deep Learning as well as other CS Era"
   ]
  },
  {
   "cell_type": "code",
   "execution_count": null,
   "metadata": {},
   "outputs": [],
   "source": []
  }
 ],
 "metadata": {
  "kernelspec": {
   "display_name": "Python 3",
   "language": "python",
   "name": "python3"
  },
  "language_info": {
   "codemirror_mode": {
    "name": "ipython",
    "version": 3
   },
   "file_extension": ".py",
   "mimetype": "text/x-python",
   "name": "python",
   "nbconvert_exporter": "python",
   "pygments_lexer": "ipython3",
   "version": "3.6.2"
  }
 },
 "nbformat": 4,
 "nbformat_minor": 2
}
